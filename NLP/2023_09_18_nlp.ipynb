{
 "cells": [
  {
   "cell_type": "code",
   "execution_count": 1,
   "id": "f3fbad11-60ec-41dd-8977-6e7acb57cefa",
   "metadata": {},
   "outputs": [
    {
     "name": "stderr",
     "output_type": "stream",
     "text": [
      "[nltk_data] Downloading package punkt to\n",
      "[nltk_data]     C:\\Users\\찬호\\AppData\\Roaming\\nltk_data...\n",
      "[nltk_data]   Unzipping tokenizers\\punkt.zip.\n",
      "[nltk_data] Downloading package averaged_perceptron_tagger to\n",
      "[nltk_data]     C:\\Users\\찬호\\AppData\\Roaming\\nltk_data...\n",
      "[nltk_data]   Unzipping taggers\\averaged_perceptron_tagger.zip.\n"
     ]
    }
   ],
   "source": [
    "import nltk\n",
    "nltk.download('punkt')\n",
    "nltk.download('averaged_perceptron_tagger')\n",
    "from nltk import pos_tag, word_tokenize, RegexpParser"
   ]
  },
  {
   "cell_type": "code",
   "execution_count": 2,
   "id": "bc68b3c1-abdb-49a8-b14b-b1c3d3b7832a",
   "metadata": {},
   "outputs": [],
   "source": [
    "sample_text=\"the quick brown fox jumps over the lazy dog\""
   ]
  },
  {
   "cell_type": "code",
   "execution_count": 5,
   "id": "9f98e13b-5435-4640-92b1-e51cad1a33d7",
   "metadata": {},
   "outputs": [],
   "source": [
    "tagged = pos_tag(word_tokenize(sample_text))"
   ]
  },
  {
   "cell_type": "raw",
   "id": "629edcd6-9c50-41ec-ba4b-eb5e401cab1b",
   "metadata": {},
   "source": []
  },
  {
   "cell_type": "code",
   "execution_count": 3,
   "id": "e21b8c39-ebf5-4408-b405-05e807d20464",
   "metadata": {},
   "outputs": [],
   "source": [
    "chunker = RegexpParser('''\n",
    "    NP: {<DT>?<JJ>*<NN>}  # 명사구 추출\n",
    "    P: {<IN>}             # 전치사 추출\n",
    "    V: {<V.*>}            # 동사 추출\n",
    "    PP: {<P><NP>}         # 전치사구 추출\n",
    "    VP: {<V><NP|PP>*}     # 동사구 추출\n",
    "''')"
   ]
  },
  {
   "cell_type": "code",
   "execution_count": 6,
   "id": "e7e81fe7-25ab-4360-918f-7cd3610a2c7d",
   "metadata": {},
   "outputs": [
    {
     "name": "stdout",
     "output_type": "stream",
     "text": [
      "After Extracting\n",
      " (S\n",
      "  (NP the/DT quick/JJ brown/NN)\n",
      "  (NP fox/NN)\n",
      "  (VP (V jumps/VBZ) (PP (P over/IN) (NP the/DT lazy/JJ dog/NN))))\n"
     ]
    }
   ],
   "source": [
    "output = chunker.parse(tagged)\n",
    "print(\"After Extracting\\n\",output)"
   ]
  },
  {
   "cell_type": "code",
   "execution_count": null,
   "id": "3263ff84-5fb4-4220-b29d-962c278e9493",
   "metadata": {},
   "outputs": [],
   "source": []
  }
 ],
 "metadata": {
  "kernelspec": {
   "display_name": "chanhoV",
   "language": "python",
   "name": "chanhov"
  },
  "language_info": {
   "codemirror_mode": {
    "name": "ipython",
    "version": 3
   },
   "file_extension": ".py",
   "mimetype": "text/x-python",
   "name": "python",
   "nbconvert_exporter": "python",
   "pygments_lexer": "ipython3",
   "version": "3.9.17"
  }
 },
 "nbformat": 4,
 "nbformat_minor": 5
}
